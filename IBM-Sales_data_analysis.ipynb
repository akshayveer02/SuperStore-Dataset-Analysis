{
 "cells": [
  {
   "cell_type": "code",
   "execution_count": 2,
   "id": "339b5b96",
   "metadata": {},
   "outputs": [
    {
     "name": "stdout",
     "output_type": "stream",
     "text": [
      "   ORDERNUMBER  QUANTITYORDERED  PRICEEACH  ORDERLINENUMBER    SALES  \\\n",
      "0        10107               30      95.70                2  2871.00   \n",
      "1        10121               34      81.35                5  2765.90   \n",
      "2        10134               41      94.74                2  3884.34   \n",
      "3        10145               45      83.26                6  3746.70   \n",
      "4        10159               49     100.00               14  5205.27   \n",
      "\n",
      "         ORDERDATE   STATUS  QTR_ID  MONTH_ID  YEAR_ID  ...  \\\n",
      "0   2/24/2003 0:00  Shipped       1         2     2003  ...   \n",
      "1    5/7/2003 0:00  Shipped       2         5     2003  ...   \n",
      "2    7/1/2003 0:00  Shipped       3         7     2003  ...   \n",
      "3   8/25/2003 0:00  Shipped       3         8     2003  ...   \n",
      "4  10/10/2003 0:00  Shipped       4        10     2003  ...   \n",
      "\n",
      "                    ADDRESSLINE1  ADDRESSLINE2           CITY STATE  \\\n",
      "0        897 Long Airport Avenue           NaN            NYC    NY   \n",
      "1             59 rue de l'Abbaye           NaN          Reims   NaN   \n",
      "2  27 rue du Colonel Pierre Avia           NaN          Paris   NaN   \n",
      "3             78934 Hillside Dr.           NaN       Pasadena    CA   \n",
      "4                7734 Strong St.           NaN  San Francisco    CA   \n",
      "\n",
      "  POSTALCODE COUNTRY TERRITORY CONTACTLASTNAME CONTACTFIRSTNAME DEALSIZE  \n",
      "0      10022     USA       NaN              Yu             Kwai    Small  \n",
      "1      51100  France      EMEA         Henriot             Paul    Small  \n",
      "2      75508  France      EMEA        Da Cunha           Daniel   Medium  \n",
      "3      90003     USA       NaN           Young            Julie   Medium  \n",
      "4        NaN     USA       NaN           Brown            Julie   Medium  \n",
      "\n",
      "[5 rows x 25 columns]\n"
     ]
    }
   ],
   "source": [
    "import matplotlib.pyplot as plt\n",
    "import seaborn as sns\n",
    "import pandas as pd\n",
    "\n",
    "# Import the CSV file\n",
    "sales_df = pd.read_csv(\"~/Downloads/sales_data_sample.csv\")\n",
    "\n",
    "# Print the first few rows of the DataFrame\n",
    "print(sales_df.head())\n"
   ]
  },
  {
   "cell_type": "code",
   "execution_count": 3,
   "id": "1169c570",
   "metadata": {},
   "outputs": [
    {
     "data": {
      "text/plain": [
       "(2823, 25)"
      ]
     },
     "execution_count": 3,
     "metadata": {},
     "output_type": "execute_result"
    }
   ],
   "source": [
    "sales_df.shape"
   ]
  },
  {
   "cell_type": "code",
   "execution_count": 4,
   "id": "21b8bc1c",
   "metadata": {},
   "outputs": [
    {
     "data": {
      "text/plain": [
       "ORDERNUMBER            0\n",
       "QUANTITYORDERED        0\n",
       "PRICEEACH              0\n",
       "ORDERLINENUMBER        0\n",
       "SALES                  0\n",
       "ORDERDATE              0\n",
       "STATUS                 0\n",
       "QTR_ID                 0\n",
       "MONTH_ID               0\n",
       "YEAR_ID                0\n",
       "PRODUCTLINE            0\n",
       "MSRP                   0\n",
       "PRODUCTCODE            0\n",
       "CUSTOMERNAME           0\n",
       "PHONE                  0\n",
       "ADDRESSLINE1           0\n",
       "ADDRESSLINE2        2521\n",
       "CITY                   0\n",
       "STATE               1486\n",
       "POSTALCODE            76\n",
       "COUNTRY                0\n",
       "TERRITORY           1074\n",
       "CONTACTLASTNAME        0\n",
       "CONTACTFIRSTNAME       0\n",
       "DEALSIZE               0\n",
       "dtype: int64"
      ]
     },
     "execution_count": 4,
     "metadata": {},
     "output_type": "execute_result"
    }
   ],
   "source": [
    "sales_df.isnull().sum()"
   ]
  },
  {
   "cell_type": "code",
   "execution_count": 5,
   "id": "bc2e0194",
   "metadata": {},
   "outputs": [
    {
     "name": "stdout",
     "output_type": "stream",
     "text": [
      "<class 'pandas.core.frame.DataFrame'>\n",
      "RangeIndex: 2823 entries, 0 to 2822\n",
      "Data columns (total 25 columns):\n",
      " #   Column            Non-Null Count  Dtype  \n",
      "---  ------            --------------  -----  \n",
      " 0   ORDERNUMBER       2823 non-null   int64  \n",
      " 1   QUANTITYORDERED   2823 non-null   int64  \n",
      " 2   PRICEEACH         2823 non-null   float64\n",
      " 3   ORDERLINENUMBER   2823 non-null   int64  \n",
      " 4   SALES             2823 non-null   float64\n",
      " 5   ORDERDATE         2823 non-null   object \n",
      " 6   STATUS            2823 non-null   object \n",
      " 7   QTR_ID            2823 non-null   int64  \n",
      " 8   MONTH_ID          2823 non-null   int64  \n",
      " 9   YEAR_ID           2823 non-null   int64  \n",
      " 10  PRODUCTLINE       2823 non-null   object \n",
      " 11  MSRP              2823 non-null   int64  \n",
      " 12  PRODUCTCODE       2823 non-null   object \n",
      " 13  CUSTOMERNAME      2823 non-null   object \n",
      " 14  PHONE             2823 non-null   object \n",
      " 15  ADDRESSLINE1      2823 non-null   object \n",
      " 16  ADDRESSLINE2      302 non-null    object \n",
      " 17  CITY              2823 non-null   object \n",
      " 18  STATE             1337 non-null   object \n",
      " 19  POSTALCODE        2747 non-null   object \n",
      " 20  COUNTRY           2823 non-null   object \n",
      " 21  TERRITORY         1749 non-null   object \n",
      " 22  CONTACTLASTNAME   2823 non-null   object \n",
      " 23  CONTACTFIRSTNAME  2823 non-null   object \n",
      " 24  DEALSIZE          2823 non-null   object \n",
      "dtypes: float64(2), int64(7), object(16)\n",
      "memory usage: 551.5+ KB\n"
     ]
    }
   ],
   "source": [
    "sales_df.info()"
   ]
  },
  {
   "cell_type": "code",
   "execution_count": 6,
   "id": "971d5220",
   "metadata": {},
   "outputs": [
    {
     "name": "stdout",
     "output_type": "stream",
     "text": [
      "      ORDERNUMBER  QUANTITYORDERED  PRICEEACH  ORDERLINENUMBER    SALES  \\\n",
      "0           10107               30      95.70                2  2871.00   \n",
      "1           10121               34      81.35                5  2765.90   \n",
      "2           10134               41      94.74                2  3884.34   \n",
      "3           10145               45      83.26                6  3746.70   \n",
      "4           10159               49     100.00               14  5205.27   \n",
      "...           ...              ...        ...              ...      ...   \n",
      "2818        10350               20     100.00               15  2244.40   \n",
      "2819        10373               29     100.00                1  3978.51   \n",
      "2820        10386               43     100.00                4  5417.57   \n",
      "2821        10397               34      62.24                1  2116.16   \n",
      "2822        10414               47      65.52                9  3079.44   \n",
      "\n",
      "            ORDERDATE    STATUS  QTR_ID  MONTH_ID  YEAR_ID  ...  \\\n",
      "0      2/24/2003 0:00   Shipped       1         2     2003  ...   \n",
      "1       5/7/2003 0:00   Shipped       2         5     2003  ...   \n",
      "2       7/1/2003 0:00   Shipped       3         7     2003  ...   \n",
      "3      8/25/2003 0:00   Shipped       3         8     2003  ...   \n",
      "4     10/10/2003 0:00   Shipped       4        10     2003  ...   \n",
      "...               ...       ...     ...       ...      ...  ...   \n",
      "2818   12/2/2004 0:00   Shipped       4        12     2004  ...   \n",
      "2819   1/31/2005 0:00   Shipped       1         1     2005  ...   \n",
      "2820    3/1/2005 0:00  Resolved       1         3     2005  ...   \n",
      "2821   3/28/2005 0:00   Shipped       1         3     2005  ...   \n",
      "2822    5/6/2005 0:00   On Hold       2         5     2005  ...   \n",
      "\n",
      "                       ADDRESSLINE1  ADDRESSLINE2           CITY STATE  \\\n",
      "0           897 Long Airport Avenue           NaN            NYC    NY   \n",
      "1                59 rue de l'Abbaye           NaN          Reims   NaN   \n",
      "2     27 rue du Colonel Pierre Avia           NaN          Paris   NaN   \n",
      "3                78934 Hillside Dr.           NaN       Pasadena    CA   \n",
      "4                   7734 Strong St.           NaN  San Francisco    CA   \n",
      "...                             ...           ...            ...   ...   \n",
      "2818             C/ Moralzarzal, 86           NaN         Madrid   NaN   \n",
      "2819                    Torikatu 38           NaN           Oulu   NaN   \n",
      "2820             C/ Moralzarzal, 86           NaN         Madrid   NaN   \n",
      "2821          1 rue Alsace-Lorraine           NaN       Toulouse   NaN   \n",
      "2822             8616 Spinnaker Dr.           NaN         Boston    MA   \n",
      "\n",
      "     POSTALCODE  COUNTRY TERRITORY CONTACTLASTNAME CONTACTFIRSTNAME DEALSIZE  \n",
      "0         10022      USA       NaN              Yu             Kwai    Small  \n",
      "1         51100   France      EMEA         Henriot             Paul    Small  \n",
      "2         75508   France      EMEA        Da Cunha           Daniel   Medium  \n",
      "3         90003      USA       NaN           Young            Julie   Medium  \n",
      "4           NaN      USA       NaN           Brown            Julie   Medium  \n",
      "...         ...      ...       ...             ...              ...      ...  \n",
      "2818      28034    Spain      EMEA          Freyre            Diego    Small  \n",
      "2819      90110  Finland      EMEA       Koskitalo           Pirkko   Medium  \n",
      "2820      28034    Spain      EMEA          Freyre            Diego   Medium  \n",
      "2821      31000   France      EMEA          Roulet          Annette    Small  \n",
      "2822      51003      USA       NaN         Yoshido             Juri   Medium  \n",
      "\n",
      "[2823 rows x 25 columns]\n"
     ]
    }
   ],
   "source": [
    "#CLEANING OF DATA\n",
    "sales_df.dropna(how=\"any\")\n",
    "print(sales_df)"
   ]
  },
  {
   "cell_type": "code",
   "execution_count": 7,
   "id": "fb11ef3a",
   "metadata": {},
   "outputs": [
    {
     "data": {
      "text/plain": [
       "<AxesSubplot:xlabel='MONTH_ID'>"
      ]
     },
     "execution_count": 7,
     "metadata": {},
     "output_type": "execute_result"
    },
    {
     "data": {
      "image/png": "[encoded data removed]",
      "text/plain": [
       "<Figure size 432x288 with 1 Axes>"
      ]
     },
     "metadata": {
      "needs_background": "light"
     },
     "output_type": "display_data"
    }
   ],
   "source": [
    "sales_df.groupby(\"MONTH_ID\")[\"SALES\"].sum().plot.line()"
   ]
  },
  {
   "cell_type": "code",
   "execution_count": 8,
   "id": "0fdb25ad",
   "metadata": {},
   "outputs": [
    {
     "data": {
      "text/plain": [
       "<AxesSubplot:xlabel='MONTH_ID'>"
      ]
     },
     "execution_count": 8,
     "metadata": {},
     "output_type": "execute_result"
    },
    {
     "data": {
      "image/png": "[encoded data removed]",
      "text/plain": [
       "<Figure size 432x288 with 1 Axes>"
      ]
     },
     "metadata": {
      "needs_background": "light"
     },
     "output_type": "display_data"
    }
   ],
   "source": [
    "sales_df.groupby(\"MONTH_ID\")[\"SALES\"].sum().plot.bar()"
   ]
  },
  {
   "cell_type": "code",
   "execution_count": 9,
   "id": "2d5c36a7",
   "metadata": {},
   "outputs": [
    {
     "data": {
      "text/plain": [
       "array([2003, 2004, 2005], dtype=int64)"
      ]
     },
     "execution_count": 9,
     "metadata": {},
     "output_type": "execute_result"
    }
   ],
   "source": [
    "sales_df[\"YEAR_ID\"].unique()"
   ]
  },
  {
   "cell_type": "code",
   "execution_count": 10,
   "id": "02688679",
   "metadata": {},
   "outputs": [
    {
     "data": {
      "text/plain": [
       "<AxesSubplot:xlabel='YEAR_ID'>"
      ]
     },
     "execution_count": 10,
     "metadata": {},
     "output_type": "execute_result"
    },
    {
     "data": {
      "image/png": "[encoded data removed]",
      "text/plain": [
       "<Figure size 432x288 with 1 Axes>"
      ]
     },
     "metadata": {
      "needs_background": "light"
     },
     "output_type": "display_data"
    }
   ],
   "source": [
    "sales_df.groupby(\"YEAR_ID\")[\"SALES\"].sum().plot.line()"
   ]
  },
  {
   "cell_type": "code",
   "execution_count": 11,
   "id": "3fd2ec41",
   "metadata": {},
   "outputs": [
    {
     "data": {
      "text/plain": [
       "0       2003\n",
       "1       2003\n",
       "2       2003\n",
       "3       2003\n",
       "4       2003\n",
       "        ... \n",
       "2818    2004\n",
       "2819    2005\n",
       "2820    2005\n",
       "2821    2005\n",
       "2822    2005\n",
       "Name: YEAR_ID, Length: 2823, dtype: object"
      ]
     },
     "execution_count": 11,
     "metadata": {},
     "output_type": "execute_result"
    }
   ],
   "source": [
    "#sales_df[\"YEAR_ID\"]= sales_df[\"YEAR_ID\"].apply(lamda x:str(x))\n",
    "sales_df[\"YEAR_ID\"].astype(str)"
   ]
  },
  {
   "cell_type": "code",
   "execution_count": 12,
   "id": "6afdb3b2",
   "metadata": {},
   "outputs": [
    {
     "name": "stdout",
     "output_type": "stream",
     "text": [
      "<class 'pandas.core.frame.DataFrame'>\n",
      "RangeIndex: 2823 entries, 0 to 2822\n",
      "Data columns (total 25 columns):\n",
      " #   Column            Non-Null Count  Dtype  \n",
      "---  ------            --------------  -----  \n",
      " 0   ORDERNUMBER       2823 non-null   int64  \n",
      " 1   QUANTITYORDERED   2823 non-null   int64  \n",
      " 2   PRICEEACH         2823 non-null   float64\n",
      " 3   ORDERLINENUMBER   2823 non-null   int64  \n",
      " 4   SALES             2823 non-null   float64\n",
      " 5   ORDERDATE         2823 non-null   object \n",
      " 6   STATUS            2823 non-null   object \n",
      " 7   QTR_ID            2823 non-null   int64  \n",
      " 8   MONTH_ID          2823 non-null   int64  \n",
      " 9   YEAR_ID           2823 non-null   int64  \n",
      " 10  PRODUCTLINE       2823 non-null   object \n",
      " 11  MSRP              2823 non-null   int64  \n",
      " 12  PRODUCTCODE       2823 non-null   object \n",
      " 13  CUSTOMERNAME      2823 non-null   object \n",
      " 14  PHONE             2823 non-null   object \n",
      " 15  ADDRESSLINE1      2823 non-null   object \n",
      " 16  ADDRESSLINE2      302 non-null    object \n",
      " 17  CITY              2823 non-null   object \n",
      " 18  STATE             1337 non-null   object \n",
      " 19  POSTALCODE        2747 non-null   object \n",
      " 20  COUNTRY           2823 non-null   object \n",
      " 21  TERRITORY         1749 non-null   object \n",
      " 22  CONTACTLASTNAME   2823 non-null   object \n",
      " 23  CONTACTFIRSTNAME  2823 non-null   object \n",
      " 24  DEALSIZE          2823 non-null   object \n",
      "dtypes: float64(2), int64(7), object(16)\n",
      "memory usage: 551.5+ KB\n"
     ]
    }
   ],
   "source": [
    "sales_df.info()"
   ]
  },
  {
   "cell_type": "code",
   "execution_count": 13,
   "id": "4126a566",
   "metadata": {},
   "outputs": [],
   "source": [
    "sales_df[\"YEAR_ID\"]=sales_df[\"YEAR_ID\"].astype(str)"
   ]
  },
  {
   "cell_type": "code",
   "execution_count": 14,
   "id": "82f18ad1",
   "metadata": {},
   "outputs": [
    {
     "name": "stdout",
     "output_type": "stream",
     "text": [
      "<class 'pandas.core.frame.DataFrame'>\n",
      "RangeIndex: 2823 entries, 0 to 2822\n",
      "Data columns (total 25 columns):\n",
      " #   Column            Non-Null Count  Dtype  \n",
      "---  ------            --------------  -----  \n",
      " 0   ORDERNUMBER       2823 non-null   int64  \n",
      " 1   QUANTITYORDERED   2823 non-null   int64  \n",
      " 2   PRICEEACH         2823 non-null   float64\n",
      " 3   ORDERLINENUMBER   2823 non-null   int64  \n",
      " 4   SALES             2823 non-null   float64\n",
      " 5   ORDERDATE         2823 non-null   object \n",
      " 6   STATUS            2823 non-null   object \n",
      " 7   QTR_ID            2823 non-null   int64  \n",
      " 8   MONTH_ID          2823 non-null   int64  \n",
      " 9   YEAR_ID           2823 non-null   object \n",
      " 10  PRODUCTLINE       2823 non-null   object \n",
      " 11  MSRP              2823 non-null   int64  \n",
      " 12  PRODUCTCODE       2823 non-null   object \n",
      " 13  CUSTOMERNAME      2823 non-null   object \n",
      " 14  PHONE             2823 non-null   object \n",
      " 15  ADDRESSLINE1      2823 non-null   object \n",
      " 16  ADDRESSLINE2      302 non-null    object \n",
      " 17  CITY              2823 non-null   object \n",
      " 18  STATE             1337 non-null   object \n",
      " 19  POSTALCODE        2747 non-null   object \n",
      " 20  COUNTRY           2823 non-null   object \n",
      " 21  TERRITORY         1749 non-null   object \n",
      " 22  CONTACTLASTNAME   2823 non-null   object \n",
      " 23  CONTACTFIRSTNAME  2823 non-null   object \n",
      " 24  DEALSIZE          2823 non-null   object \n",
      "dtypes: float64(2), int64(6), object(17)\n",
      "memory usage: 551.5+ KB\n"
     ]
    }
   ],
   "source": [
    "sales_df.info()"
   ]
  },
  {
   "cell_type": "code",
   "execution_count": 15,
   "id": "86d53187",
   "metadata": {},
   "outputs": [
    {
     "data": {
      "text/plain": [
       "<AxesSubplot:xlabel='YEAR_ID'>"
      ]
     },
     "execution_count": 15,
     "metadata": {},
     "output_type": "execute_result"
    },
    {
     "data": {
      "image/png": "[encoded data removed]",
      "text/plain": [
       "<Figure size 432x288 with 1 Axes>"
      ]
     },
     "metadata": {
      "needs_background": "light"
     },
     "output_type": "display_data"
    }
   ],
   "source": [
    "ddf=sales_df.groupby(\"YEAR_ID\")[\"SALES\"].sum().plot.line()\n",
    "ddf"
   ]
  },
  {
   "cell_type": "code",
   "execution_count": 20,
   "id": "eeda3a2b",
   "metadata": {},
   "outputs": [],
   "source": [
    "sales_in_2004 = sales_df[sales_df[\"YEAR_ID\"] == 2004][\"SALES\"].sum()"
   ]
  },
  {
   "cell_type": "code",
   "execution_count": 21,
   "id": "45e79cec",
   "metadata": {},
   "outputs": [
    {
     "name": "stdout",
     "output_type": "stream",
     "text": [
      "0.0\n"
     ]
    }
   ],
   "source": [
    "print(sales_in_2004)"
   ]
  },
  {
   "cell_type": "code",
   "execution_count": 22,
   "id": "ddb0c26c",
   "metadata": {},
   "outputs": [
    {
     "data": {
      "text/html": [
       "<div>\n",
       "<style scoped>\n",
       "    .dataframe tbody tr th:only-of-type {\n",
       "        vertical-align: middle;\n",
       "    }\n",
       "\n",
       "    .dataframe tbody tr th {\n",
       "        vertical-align: top;\n",
       "    }\n",
       "\n",
       "    .dataframe thead th {\n",
       "        text-align: right;\n",
       "    }\n",
       "</style>\n",
       "<table border=\"1\" class=\"dataframe\">\n",
       "  <thead>\n",
       "    <tr style=\"text-align: right;\">\n",
       "      <th></th>\n",
       "      <th>SALES</th>\n",
       "    </tr>\n",
       "    <tr>\n",
       "      <th>ORDERNUMBER</th>\n",
       "      <th></th>\n",
       "    </tr>\n",
       "  </thead>\n",
       "  <tbody>\n",
       "    <tr>\n",
       "      <th>10100</th>\n",
       "      <td>12133.25</td>\n",
       "    </tr>\n",
       "    <tr>\n",
       "      <th>10101</th>\n",
       "      <td>11432.34</td>\n",
       "    </tr>\n",
       "    <tr>\n",
       "      <th>10102</th>\n",
       "      <td>6864.05</td>\n",
       "    </tr>\n",
       "    <tr>\n",
       "      <th>10103</th>\n",
       "      <td>54702.00</td>\n",
       "    </tr>\n",
       "    <tr>\n",
       "      <th>10104</th>\n",
       "      <td>44621.96</td>\n",
       "    </tr>\n",
       "    <tr>\n",
       "      <th>10105</th>\n",
       "      <td>58871.11</td>\n",
       "    </tr>\n",
       "    <tr>\n",
       "      <th>10106</th>\n",
       "      <td>56181.32</td>\n",
       "    </tr>\n",
       "    <tr>\n",
       "      <th>10107</th>\n",
       "      <td>25783.76</td>\n",
       "    </tr>\n",
       "    <tr>\n",
       "      <th>10108</th>\n",
       "      <td>55245.02</td>\n",
       "    </tr>\n",
       "    <tr>\n",
       "      <th>10109</th>\n",
       "      <td>27398.82</td>\n",
       "    </tr>\n",
       "  </tbody>\n",
       "</table>\n",
       "</div>"
      ],
      "text/plain": [
       "                SALES\n",
       "ORDERNUMBER          \n",
       "10100        12133.25\n",
       "10101        11432.34\n",
       "10102         6864.05\n",
       "10103        54702.00\n",
       "10104        44621.96\n",
       "10105        58871.11\n",
       "10106        56181.32\n",
       "10107        25783.76\n",
       "10108        55245.02\n",
       "10109        27398.82"
      ]
     },
     "execution_count": 22,
     "metadata": {},
     "output_type": "execute_result"
    }
   ],
   "source": [
    "sales_by_ordernumber = sales_df[['ORDERNUMBER', 'SALES']].groupby(['ORDERNUMBER']).sum()\n",
    "sales_by_ordernumber.head(10)\n",
    "#print(sales_df[\"ORDERNUMBER\"].unique())"
   ]
  },
  {
   "cell_type": "code",
   "execution_count": 23,
   "id": "9d85d4ab",
   "metadata": {},
   "outputs": [
    {
     "data": {
      "text/html": [
       "<div>\n",
       "<style scoped>\n",
       "    .dataframe tbody tr th:only-of-type {\n",
       "        vertical-align: middle;\n",
       "    }\n",
       "\n",
       "    .dataframe tbody tr th {\n",
       "        vertical-align: top;\n",
       "    }\n",
       "\n",
       "    .dataframe thead th {\n",
       "        text-align: right;\n",
       "    }\n",
       "</style>\n",
       "<table border=\"1\" class=\"dataframe\">\n",
       "  <thead>\n",
       "    <tr style=\"text-align: right;\">\n",
       "      <th></th>\n",
       "      <th>SALES</th>\n",
       "    </tr>\n",
       "    <tr>\n",
       "      <th>COUNTRY</th>\n",
       "      <th></th>\n",
       "    </tr>\n",
       "  </thead>\n",
       "  <tbody>\n",
       "    <tr>\n",
       "      <th>Australia</th>\n",
       "      <td>630623.10</td>\n",
       "    </tr>\n",
       "    <tr>\n",
       "      <th>Austria</th>\n",
       "      <td>202062.53</td>\n",
       "    </tr>\n",
       "    <tr>\n",
       "      <th>Belgium</th>\n",
       "      <td>108412.62</td>\n",
       "    </tr>\n",
       "    <tr>\n",
       "      <th>Canada</th>\n",
       "      <td>224078.56</td>\n",
       "    </tr>\n",
       "    <tr>\n",
       "      <th>Denmark</th>\n",
       "      <td>245637.15</td>\n",
       "    </tr>\n",
       "    <tr>\n",
       "      <th>Finland</th>\n",
       "      <td>329581.91</td>\n",
       "    </tr>\n",
       "    <tr>\n",
       "      <th>France</th>\n",
       "      <td>1110916.52</td>\n",
       "    </tr>\n",
       "    <tr>\n",
       "      <th>Germany</th>\n",
       "      <td>220472.09</td>\n",
       "    </tr>\n",
       "    <tr>\n",
       "      <th>Ireland</th>\n",
       "      <td>57756.43</td>\n",
       "    </tr>\n",
       "    <tr>\n",
       "      <th>Italy</th>\n",
       "      <td>374674.31</td>\n",
       "    </tr>\n",
       "    <tr>\n",
       "      <th>Japan</th>\n",
       "      <td>188167.81</td>\n",
       "    </tr>\n",
       "    <tr>\n",
       "      <th>Norway</th>\n",
       "      <td>307463.70</td>\n",
       "    </tr>\n",
       "    <tr>\n",
       "      <th>Philippines</th>\n",
       "      <td>94015.73</td>\n",
       "    </tr>\n",
       "    <tr>\n",
       "      <th>Singapore</th>\n",
       "      <td>288488.41</td>\n",
       "    </tr>\n",
       "    <tr>\n",
       "      <th>Spain</th>\n",
       "      <td>1215686.92</td>\n",
       "    </tr>\n",
       "    <tr>\n",
       "      <th>Sweden</th>\n",
       "      <td>210014.21</td>\n",
       "    </tr>\n",
       "    <tr>\n",
       "      <th>Switzerland</th>\n",
       "      <td>117713.56</td>\n",
       "    </tr>\n",
       "    <tr>\n",
       "      <th>UK</th>\n",
       "      <td>478880.46</td>\n",
       "    </tr>\n",
       "    <tr>\n",
       "      <th>USA</th>\n",
       "      <td>3627982.83</td>\n",
       "    </tr>\n",
       "  </tbody>\n",
       "</table>\n",
       "</div>"
      ],
      "text/plain": [
       "                  SALES\n",
       "COUNTRY                \n",
       "Australia     630623.10\n",
       "Austria       202062.53\n",
       "Belgium       108412.62\n",
       "Canada        224078.56\n",
       "Denmark       245637.15\n",
       "Finland       329581.91\n",
       "France       1110916.52\n",
       "Germany       220472.09\n",
       "Ireland        57756.43\n",
       "Italy         374674.31\n",
       "Japan         188167.81\n",
       "Norway        307463.70\n",
       "Philippines    94015.73\n",
       "Singapore     288488.41\n",
       "Spain        1215686.92\n",
       "Sweden        210014.21\n",
       "Switzerland   117713.56\n",
       "UK            478880.46\n",
       "USA          3627982.83"
      ]
     },
     "execution_count": 23,
     "metadata": {},
     "output_type": "execute_result"
    }
   ],
   "source": [
    "sales_by_region= sales_df[['COUNTRY','SALES']].groupby([\"COUNTRY\"]).sum()[:19]\n",
    "sales_by_region\n",
    "#sales_df[\"COUNTRY\"].unique()"
   ]
  },
  {
   "cell_type": "code",
   "execution_count": 25,
   "id": "eeb09cdd",
   "metadata": {},
   "outputs": [
    {
     "data": {
      "image/png": "[encoded data removed]",
      "text/plain": [
       "<Figure size 1224x576 with 1 Axes>"
      ]
     },
     "metadata": {},
     "output_type": "display_data"
    }
   ],
   "source": [
    "import matplotlib.pyplot as plt\n",
    "\n",
    "\n",
    "df = sales_by_region[1:19]\n",
    "df['SALES'].plot(kind='pie',figsize=(17, 8))\n",
    "plt.title(\"19 COUNTRIES WITH MOST SALES\")\n",
    "plt.show()"
   ]
  },
  {
   "cell_type": "code",
   "execution_count": 36,
   "id": "b32598ef",
   "metadata": {},
   "outputs": [
    {
     "data": {
      "text/html": [
       "<div>\n",
       "<style scoped>\n",
       "    .dataframe tbody tr th:only-of-type {\n",
       "        vertical-align: middle;\n",
       "    }\n",
       "\n",
       "    .dataframe tbody tr th {\n",
       "        vertical-align: top;\n",
       "    }\n",
       "\n",
       "    .dataframe thead th {\n",
       "        text-align: right;\n",
       "    }\n",
       "</style>\n",
       "<table border=\"1\" class=\"dataframe\">\n",
       "  <thead>\n",
       "    <tr style=\"text-align: right;\">\n",
       "      <th></th>\n",
       "      <th>QUANTITYORDERED</th>\n",
       "    </tr>\n",
       "    <tr>\n",
       "      <th>ORDERNUMBER</th>\n",
       "      <th></th>\n",
       "    </tr>\n",
       "  </thead>\n",
       "  <tbody>\n",
       "    <tr>\n",
       "      <th>10222</th>\n",
       "      <td>717</td>\n",
       "    </tr>\n",
       "    <tr>\n",
       "      <th>10106</th>\n",
       "      <td>675</td>\n",
       "    </tr>\n",
       "    <tr>\n",
       "      <th>10165</th>\n",
       "      <td>670</td>\n",
       "    </tr>\n",
       "    <tr>\n",
       "      <th>10386</th>\n",
       "      <td>650</td>\n",
       "    </tr>\n",
       "    <tr>\n",
       "      <th>10168</th>\n",
       "      <td>642</td>\n",
       "    </tr>\n",
       "    <tr>\n",
       "      <th>10398</th>\n",
       "      <td>629</td>\n",
       "    </tr>\n",
       "    <tr>\n",
       "      <th>10316</th>\n",
       "      <td>623</td>\n",
       "    </tr>\n",
       "    <tr>\n",
       "      <th>10332</th>\n",
       "      <td>621</td>\n",
       "    </tr>\n",
       "    <tr>\n",
       "      <th>10204</th>\n",
       "      <td>619</td>\n",
       "    </tr>\n",
       "    <tr>\n",
       "      <th>10310</th>\n",
       "      <td>619</td>\n",
       "    </tr>\n",
       "  </tbody>\n",
       "</table>\n",
       "</div>"
      ],
      "text/plain": [
       "             QUANTITYORDERED\n",
       "ORDERNUMBER                 \n",
       "10222                    717\n",
       "10106                    675\n",
       "10165                    670\n",
       "10386                    650\n",
       "10168                    642\n",
       "10398                    629\n",
       "10316                    623\n",
       "10332                    621\n",
       "10204                    619\n",
       "10310                    619"
      ]
     },
     "execution_count": 36,
     "metadata": {},
     "output_type": "execute_result"
    }
   ],
   "source": [
    "#Which are the most selling products?\n",
    "boughts_df = sales_df.groupby('ORDERNUMBER').agg({'QUANTITYORDERED': 'sum'}).sort_values('QUANTITYORDERED',ascending=False)[:10]\n",
    "boughts_df"
   ]
  },
  {
   "cell_type": "code",
   "execution_count": 44,
   "id": "d3afac45",
   "metadata": {},
   "outputs": [
    {
     "data": {
      "text/plain": [
       "<AxesSubplot:xlabel='ORDERNUMBER'>"
      ]
     },
     "execution_count": 44,
     "metadata": {},
     "output_type": "execute_result"
    },
    {
     "data": {
      "image/png": "[encoded data removed]",
      "text/plain": [
       "<Figure size 432x288 with 1 Axes>"
      ]
     },
     "metadata": {
      "needs_background": "light"
     },
     "output_type": "display_data"
    }
   ],
   "source": [
    "boughts_df.plot.bar()"
   ]
  },
  {
   "cell_type": "code",
   "execution_count": 45,
   "id": "d864a39c",
   "metadata": {},
   "outputs": [
    {
     "data": {
      "text/html": [
       "<div>\n",
       "<style scoped>\n",
       "    .dataframe tbody tr th:only-of-type {\n",
       "        vertical-align: middle;\n",
       "    }\n",
       "\n",
       "    .dataframe tbody tr th {\n",
       "        vertical-align: top;\n",
       "    }\n",
       "\n",
       "    .dataframe thead th {\n",
       "        text-align: right;\n",
       "    }\n",
       "</style>\n",
       "<table border=\"1\" class=\"dataframe\">\n",
       "  <thead>\n",
       "    <tr style=\"text-align: right;\">\n",
       "      <th></th>\n",
       "      <th>SALES</th>\n",
       "    </tr>\n",
       "    <tr>\n",
       "      <th>ORDERNUMBER</th>\n",
       "      <th></th>\n",
       "    </tr>\n",
       "  </thead>\n",
       "  <tbody>\n",
       "    <tr>\n",
       "      <th>10425</th>\n",
       "      <td>43784.69</td>\n",
       "    </tr>\n",
       "    <tr>\n",
       "      <th>10424</th>\n",
       "      <td>35133.34</td>\n",
       "    </tr>\n",
       "    <tr>\n",
       "      <th>10423</th>\n",
       "      <td>8411.95</td>\n",
       "    </tr>\n",
       "    <tr>\n",
       "      <th>10422</th>\n",
       "      <td>6166.80</td>\n",
       "    </tr>\n",
       "    <tr>\n",
       "      <th>10421</th>\n",
       "      <td>7261.75</td>\n",
       "    </tr>\n",
       "    <tr>\n",
       "      <th>10420</th>\n",
       "      <td>43971.43</td>\n",
       "    </tr>\n",
       "    <tr>\n",
       "      <th>10419</th>\n",
       "      <td>59475.10</td>\n",
       "    </tr>\n",
       "    <tr>\n",
       "      <th>10417</th>\n",
       "      <td>31821.90</td>\n",
       "    </tr>\n",
       "    <tr>\n",
       "      <th>10416</th>\n",
       "      <td>41509.94</td>\n",
       "    </tr>\n",
       "    <tr>\n",
       "      <th>10415</th>\n",
       "      <td>14378.09</td>\n",
       "    </tr>\n",
       "  </tbody>\n",
       "</table>\n",
       "</div>"
      ],
      "text/plain": [
       "                SALES\n",
       "ORDERNUMBER          \n",
       "10425        43784.69\n",
       "10424        35133.34\n",
       "10423         8411.95\n",
       "10422         6166.80\n",
       "10421         7261.75\n",
       "10420        43971.43\n",
       "10419        59475.10\n",
       "10417        31821.90\n",
       "10416        41509.94\n",
       "10415        14378.09"
      ]
     },
     "execution_count": 45,
     "metadata": {},
     "output_type": "execute_result"
    }
   ],
   "source": [
    "#Which are the Top 10 products by sales?\n",
    "productSales_df=sales_df.groupby('ORDERNUMBER').agg({'SALES':'sum'}).sort_values('ORDERNUMBER',ascending=False)[:10]\n",
    "productSales_df"
   ]
  },
  {
   "cell_type": "code",
   "execution_count": 46,
   "id": "11eaa84e",
   "metadata": {},
   "outputs": [
    {
     "data": {
      "text/html": [
       "<div>\n",
       "<style scoped>\n",
       "    .dataframe tbody tr th:only-of-type {\n",
       "        vertical-align: middle;\n",
       "    }\n",
       "\n",
       "    .dataframe tbody tr th {\n",
       "        vertical-align: top;\n",
       "    }\n",
       "\n",
       "    .dataframe thead th {\n",
       "        text-align: right;\n",
       "    }\n",
       "</style>\n",
       "<table border=\"1\" class=\"dataframe\">\n",
       "  <thead>\n",
       "    <tr style=\"text-align: right;\">\n",
       "      <th></th>\n",
       "      <th></th>\n",
       "      <th>QUANTITYORDERED</th>\n",
       "      <th>PRICEEACH</th>\n",
       "      <th>ORDERLINENUMBER</th>\n",
       "      <th>QTR_ID</th>\n",
       "      <th>MONTH_ID</th>\n",
       "      <th>MSRP</th>\n",
       "    </tr>\n",
       "    <tr>\n",
       "      <th>ORDERNUMBER</th>\n",
       "      <th>SALES</th>\n",
       "      <th></th>\n",
       "      <th></th>\n",
       "      <th></th>\n",
       "      <th></th>\n",
       "      <th></th>\n",
       "      <th></th>\n",
       "    </tr>\n",
       "  </thead>\n",
       "  <tbody>\n",
       "    <tr>\n",
       "      <th rowspan=\"4\" valign=\"top\">10100</th>\n",
       "      <th>1689.03</th>\n",
       "      <td>49</td>\n",
       "      <td>34.47</td>\n",
       "      <td>1</td>\n",
       "      <td>1</td>\n",
       "      <td>1</td>\n",
       "      <td>41</td>\n",
       "    </tr>\n",
       "    <tr>\n",
       "      <th>1903.22</th>\n",
       "      <td>22</td>\n",
       "      <td>86.51</td>\n",
       "      <td>4</td>\n",
       "      <td>1</td>\n",
       "      <td>1</td>\n",
       "      <td>92</td>\n",
       "    </tr>\n",
       "    <tr>\n",
       "      <th>3390.00</th>\n",
       "      <td>50</td>\n",
       "      <td>67.80</td>\n",
       "      <td>2</td>\n",
       "      <td>1</td>\n",
       "      <td>1</td>\n",
       "      <td>60</td>\n",
       "    </tr>\n",
       "    <tr>\n",
       "      <th>5151.00</th>\n",
       "      <td>30</td>\n",
       "      <td>100.00</td>\n",
       "      <td>3</td>\n",
       "      <td>1</td>\n",
       "      <td>1</td>\n",
       "      <td>170</td>\n",
       "    </tr>\n",
       "    <tr>\n",
       "      <th>10101</th>\n",
       "      <th>1404.00</th>\n",
       "      <td>45</td>\n",
       "      <td>31.20</td>\n",
       "      <td>3</td>\n",
       "      <td>1</td>\n",
       "      <td>1</td>\n",
       "      <td>33</td>\n",
       "    </tr>\n",
       "    <tr>\n",
       "      <th>...</th>\n",
       "      <th>...</th>\n",
       "      <td>...</td>\n",
       "      <td>...</td>\n",
       "      <td>...</td>\n",
       "      <td>...</td>\n",
       "      <td>...</td>\n",
       "      <td>...</td>\n",
       "    </tr>\n",
       "    <tr>\n",
       "      <th rowspan=\"5\" valign=\"top\">10425</th>\n",
       "      <th>4325.16</th>\n",
       "      <td>38</td>\n",
       "      <td>100.00</td>\n",
       "      <td>13</td>\n",
       "      <td>2</td>\n",
       "      <td>5</td>\n",
       "      <td>121</td>\n",
       "    </tr>\n",
       "    <tr>\n",
       "      <th>4692.60</th>\n",
       "      <td>33</td>\n",
       "      <td>100.00</td>\n",
       "      <td>4</td>\n",
       "      <td>2</td>\n",
       "      <td>5</td>\n",
       "      <td>118</td>\n",
       "    </tr>\n",
       "    <tr>\n",
       "      <th>5318.04</th>\n",
       "      <td>28</td>\n",
       "      <td>100.00</td>\n",
       "      <td>3</td>\n",
       "      <td>2</td>\n",
       "      <td>5</td>\n",
       "      <td>163</td>\n",
       "    </tr>\n",
       "    <tr>\n",
       "      <th>5510.54</th>\n",
       "      <td>49</td>\n",
       "      <td>100.00</td>\n",
       "      <td>9</td>\n",
       "      <td>2</td>\n",
       "      <td>5</td>\n",
       "      <td>127</td>\n",
       "    </tr>\n",
       "    <tr>\n",
       "      <th>5894.94</th>\n",
       "      <td>38</td>\n",
       "      <td>100.00</td>\n",
       "      <td>12</td>\n",
       "      <td>2</td>\n",
       "      <td>5</td>\n",
       "      <td>147</td>\n",
       "    </tr>\n",
       "  </tbody>\n",
       "</table>\n",
       "<p>2823 rows × 6 columns</p>\n",
       "</div>"
      ],
      "text/plain": [
       "                     QUANTITYORDERED  PRICEEACH  ORDERLINENUMBER  QTR_ID  \\\n",
       "ORDERNUMBER SALES                                                          \n",
       "10100       1689.03               49      34.47                1       1   \n",
       "            1903.22               22      86.51                4       1   \n",
       "            3390.00               50      67.80                2       1   \n",
       "            5151.00               30     100.00                3       1   \n",
       "10101       1404.00               45      31.20                3       1   \n",
       "...                              ...        ...              ...     ...   \n",
       "10425       4325.16               38     100.00               13       2   \n",
       "            4692.60               33     100.00                4       2   \n",
       "            5318.04               28     100.00                3       2   \n",
       "            5510.54               49     100.00                9       2   \n",
       "            5894.94               38     100.00               12       2   \n",
       "\n",
       "                     MONTH_ID  MSRP  \n",
       "ORDERNUMBER SALES                    \n",
       "10100       1689.03         1    41  \n",
       "            1903.22         1    92  \n",
       "            3390.00         1    60  \n",
       "            5151.00         1   170  \n",
       "10101       1404.00         1    33  \n",
       "...                       ...   ...  \n",
       "10425       4325.16         5   121  \n",
       "            4692.60         5   118  \n",
       "            5318.04         5   163  \n",
       "            5510.54         5   127  \n",
       "            5894.94         5   147  \n",
       "\n",
       "[2823 rows x 6 columns]"
      ]
     },
     "execution_count": 46,
     "metadata": {},
     "output_type": "execute_result"
    }
   ],
   "source": [
    "#What category sold the most?\n",
    "sales_df.groupby(['ORDERNUMBER','SALES']).sum()"
   ]
  },
  {
   "cell_type": "code",
   "execution_count": 47,
   "id": "96bf6495",
   "metadata": {},
   "outputs": [
    {
     "data": {
      "text/plain": [
       "array(['Motorcycles', 'Classic Cars', 'Trucks and Buses', 'Vintage Cars',\n",
       "       'Planes', 'Ships', 'Trains'], dtype=object)"
      ]
     },
     "execution_count": 47,
     "metadata": {},
     "output_type": "execute_result"
    }
   ],
   "source": [
    "sales_df['PRODUCTLINE'].unique()"
   ]
  },
  {
   "cell_type": "code",
   "execution_count": 48,
   "id": "0feccbc3",
   "metadata": {},
   "outputs": [
    {
     "data": {
      "text/html": [
       "<div>\n",
       "<style scoped>\n",
       "    .dataframe tbody tr th:only-of-type {\n",
       "        vertical-align: middle;\n",
       "    }\n",
       "\n",
       "    .dataframe tbody tr th {\n",
       "        vertical-align: top;\n",
       "    }\n",
       "\n",
       "    .dataframe thead th {\n",
       "        text-align: right;\n",
       "    }\n",
       "</style>\n",
       "<table border=\"1\" class=\"dataframe\">\n",
       "  <thead>\n",
       "    <tr style=\"text-align: right;\">\n",
       "      <th></th>\n",
       "      <th>SALES</th>\n",
       "    </tr>\n",
       "    <tr>\n",
       "      <th>PRODUCTLINE</th>\n",
       "      <th></th>\n",
       "    </tr>\n",
       "  </thead>\n",
       "  <tbody>\n",
       "    <tr>\n",
       "      <th>Classic Cars</th>\n",
       "      <td>3919615.66</td>\n",
       "    </tr>\n",
       "    <tr>\n",
       "      <th>Vintage Cars</th>\n",
       "      <td>1903150.84</td>\n",
       "    </tr>\n",
       "    <tr>\n",
       "      <th>Motorcycles</th>\n",
       "      <td>1166388.34</td>\n",
       "    </tr>\n",
       "    <tr>\n",
       "      <th>Trucks and Buses</th>\n",
       "      <td>1127789.84</td>\n",
       "    </tr>\n",
       "    <tr>\n",
       "      <th>Planes</th>\n",
       "      <td>975003.57</td>\n",
       "    </tr>\n",
       "    <tr>\n",
       "      <th>Ships</th>\n",
       "      <td>714437.13</td>\n",
       "    </tr>\n",
       "    <tr>\n",
       "      <th>Trains</th>\n",
       "      <td>226243.47</td>\n",
       "    </tr>\n",
       "  </tbody>\n",
       "</table>\n",
       "</div>"
      ],
      "text/plain": [
       "                       SALES\n",
       "PRODUCTLINE                 \n",
       "Classic Cars      3919615.66\n",
       "Vintage Cars      1903150.84\n",
       "Motorcycles       1166388.34\n",
       "Trucks and Buses  1127789.84\n",
       "Planes             975003.57\n",
       "Ships              714437.13\n",
       "Trains             226243.47"
      ]
     },
     "execution_count": 48,
     "metadata": {},
     "output_type": "execute_result"
    }
   ],
   "source": [
    "#What shipping modes sold the most products?\n",
    "shipping_mode_sold= sales_df[['PRODUCTLINE','SALES']].groupby('PRODUCTLINE').sum()\n",
    "df=shipping_mode_sold.sort_values('SALES', ascending=False)\n",
    "df"
   ]
  },
  {
   "cell_type": "code",
   "execution_count": 49,
   "id": "f29da4ac",
   "metadata": {},
   "outputs": [
    {
     "data": {
      "image/png": "[encoded data removed]",
      "text/plain": [
       "<Figure size 432x288 with 1 Axes>"
      ]
     },
     "metadata": {
      "needs_background": "light"
     },
     "output_type": "display_data"
    }
   ],
   "source": [
    "df2=shipping_mode_sold.plot.bar()\n"
   ]
  },
  {
   "cell_type": "code",
   "execution_count": 50,
   "id": "94ea9fbe",
   "metadata": {},
   "outputs": [
    {
     "data": {
      "text/html": [
       "<div>\n",
       "<style scoped>\n",
       "    .dataframe tbody tr th:only-of-type {\n",
       "        vertical-align: middle;\n",
       "    }\n",
       "\n",
       "    .dataframe tbody tr th {\n",
       "        vertical-align: top;\n",
       "    }\n",
       "\n",
       "    .dataframe thead th {\n",
       "        text-align: right;\n",
       "    }\n",
       "</style>\n",
       "<table border=\"1\" class=\"dataframe\">\n",
       "  <thead>\n",
       "    <tr style=\"text-align: right;\">\n",
       "      <th></th>\n",
       "      <th></th>\n",
       "      <th>ORDERNUMBER</th>\n",
       "      <th>QUANTITYORDERED</th>\n",
       "      <th>PRICEEACH</th>\n",
       "      <th>ORDERLINENUMBER</th>\n",
       "      <th>SALES</th>\n",
       "      <th>QTR_ID</th>\n",
       "      <th>MSRP</th>\n",
       "    </tr>\n",
       "    <tr>\n",
       "      <th>YEAR_ID</th>\n",
       "      <th>MONTH_ID</th>\n",
       "      <th></th>\n",
       "      <th></th>\n",
       "      <th></th>\n",
       "      <th></th>\n",
       "      <th></th>\n",
       "      <th></th>\n",
       "      <th></th>\n",
       "    </tr>\n",
       "  </thead>\n",
       "  <tbody>\n",
       "    <tr>\n",
       "      <th rowspan=\"12\" valign=\"top\">2003</th>\n",
       "      <th>1</th>\n",
       "      <td>394008</td>\n",
       "      <td>1357</td>\n",
       "      <td>3203.31</td>\n",
       "      <td>250</td>\n",
       "      <td>129753.60</td>\n",
       "      <td>39</td>\n",
       "      <td>3950</td>\n",
       "    </tr>\n",
       "    <tr>\n",
       "      <th>2</th>\n",
       "      <td>414339</td>\n",
       "      <td>1449</td>\n",
       "      <td>3441.55</td>\n",
       "      <td>327</td>\n",
       "      <td>140836.19</td>\n",
       "      <td>41</td>\n",
       "      <td>4038</td>\n",
       "    </tr>\n",
       "    <tr>\n",
       "      <th>3</th>\n",
       "      <td>505484</td>\n",
       "      <td>1755</td>\n",
       "      <td>4086.67</td>\n",
       "      <td>327</td>\n",
       "      <td>174504.90</td>\n",
       "      <td>50</td>\n",
       "      <td>5003</td>\n",
       "    </tr>\n",
       "    <tr>\n",
       "      <th>4</th>\n",
       "      <td>586819</td>\n",
       "      <td>1993</td>\n",
       "      <td>4925.11</td>\n",
       "      <td>375</td>\n",
       "      <td>201609.55</td>\n",
       "      <td>116</td>\n",
       "      <td>5810</td>\n",
       "    </tr>\n",
       "    <tr>\n",
       "      <th>5</th>\n",
       "      <td>587175</td>\n",
       "      <td>2017</td>\n",
       "      <td>4753.17</td>\n",
       "      <td>425</td>\n",
       "      <td>192673.11</td>\n",
       "      <td>116</td>\n",
       "      <td>5900</td>\n",
       "    </tr>\n",
       "    <tr>\n",
       "      <th>6</th>\n",
       "      <td>465950</td>\n",
       "      <td>1649</td>\n",
       "      <td>3879.33</td>\n",
       "      <td>250</td>\n",
       "      <td>168082.56</td>\n",
       "      <td>92</td>\n",
       "      <td>4519</td>\n",
       "    </tr>\n",
       "    <tr>\n",
       "      <th>7</th>\n",
       "      <td>506841</td>\n",
       "      <td>1725</td>\n",
       "      <td>4310.41</td>\n",
       "      <td>299</td>\n",
       "      <td>187731.88</td>\n",
       "      <td>150</td>\n",
       "      <td>5349</td>\n",
       "    </tr>\n",
       "    <tr>\n",
       "      <th>8</th>\n",
       "      <td>588293</td>\n",
       "      <td>1974</td>\n",
       "      <td>4826.26</td>\n",
       "      <td>454</td>\n",
       "      <td>197809.30</td>\n",
       "      <td>174</td>\n",
       "      <td>5695</td>\n",
       "    </tr>\n",
       "    <tr>\n",
       "      <th>9</th>\n",
       "      <td>771377</td>\n",
       "      <td>2510</td>\n",
       "      <td>6407.33</td>\n",
       "      <td>462</td>\n",
       "      <td>263973.36</td>\n",
       "      <td>228</td>\n",
       "      <td>7958</td>\n",
       "    </tr>\n",
       "    <tr>\n",
       "      <th>10</th>\n",
       "      <td>1609144</td>\n",
       "      <td>5515</td>\n",
       "      <td>13367.06</td>\n",
       "      <td>1087</td>\n",
       "      <td>568290.97</td>\n",
       "      <td>632</td>\n",
       "      <td>15916</td>\n",
       "    </tr>\n",
       "    <tr>\n",
       "      <th>11</th>\n",
       "      <td>3014361</td>\n",
       "      <td>10179</td>\n",
       "      <td>24717.89</td>\n",
       "      <td>1983</td>\n",
       "      <td>1029837.66</td>\n",
       "      <td>1184</td>\n",
       "      <td>30204</td>\n",
       "    </tr>\n",
       "    <tr>\n",
       "      <th>12</th>\n",
       "      <td>714308</td>\n",
       "      <td>2489</td>\n",
       "      <td>5875.05</td>\n",
       "      <td>470</td>\n",
       "      <td>261876.46</td>\n",
       "      <td>280</td>\n",
       "      <td>7247</td>\n",
       "    </tr>\n",
       "    <tr>\n",
       "      <th rowspan=\"12\" valign=\"top\">2004</th>\n",
       "      <th>1</th>\n",
       "      <td>929206</td>\n",
       "      <td>3245</td>\n",
       "      <td>7576.40</td>\n",
       "      <td>654</td>\n",
       "      <td>316577.42</td>\n",
       "      <td>91</td>\n",
       "      <td>9050</td>\n",
       "    </tr>\n",
       "    <tr>\n",
       "      <th>2</th>\n",
       "      <td>879113</td>\n",
       "      <td>3061</td>\n",
       "      <td>7222.72</td>\n",
       "      <td>544</td>\n",
       "      <td>311419.53</td>\n",
       "      <td>86</td>\n",
       "      <td>8671</td>\n",
       "    </tr>\n",
       "    <tr>\n",
       "      <th>3</th>\n",
       "      <td>572836</td>\n",
       "      <td>1978</td>\n",
       "      <td>4686.99</td>\n",
       "      <td>327</td>\n",
       "      <td>205733.73</td>\n",
       "      <td>56</td>\n",
       "      <td>5703</td>\n",
       "    </tr>\n",
       "    <tr>\n",
       "      <th>4</th>\n",
       "      <td>655296</td>\n",
       "      <td>2077</td>\n",
       "      <td>5281.88</td>\n",
       "      <td>313</td>\n",
       "      <td>206148.12</td>\n",
       "      <td>128</td>\n",
       "      <td>6232</td>\n",
       "    </tr>\n",
       "    <tr>\n",
       "      <th>5</th>\n",
       "      <td>758384</td>\n",
       "      <td>2618</td>\n",
       "      <td>6282.94</td>\n",
       "      <td>423</td>\n",
       "      <td>273438.39</td>\n",
       "      <td>148</td>\n",
       "      <td>7443</td>\n",
       "    </tr>\n",
       "    <tr>\n",
       "      <th>6</th>\n",
       "      <td>872046</td>\n",
       "      <td>2971</td>\n",
       "      <td>6994.18</td>\n",
       "      <td>513</td>\n",
       "      <td>286674.22</td>\n",
       "      <td>170</td>\n",
       "      <td>8482</td>\n",
       "    </tr>\n",
       "    <tr>\n",
       "      <th>7</th>\n",
       "      <td>934658</td>\n",
       "      <td>3174</td>\n",
       "      <td>7795.36</td>\n",
       "      <td>606</td>\n",
       "      <td>327144.09</td>\n",
       "      <td>273</td>\n",
       "      <td>9337</td>\n",
       "    </tr>\n",
       "    <tr>\n",
       "      <th>8</th>\n",
       "      <td>1367479</td>\n",
       "      <td>4564</td>\n",
       "      <td>11147.85</td>\n",
       "      <td>972</td>\n",
       "      <td>461501.27</td>\n",
       "      <td>399</td>\n",
       "      <td>13561</td>\n",
       "    </tr>\n",
       "    <tr>\n",
       "      <th>9</th>\n",
       "      <td>977860</td>\n",
       "      <td>3171</td>\n",
       "      <td>7870.55</td>\n",
       "      <td>564</td>\n",
       "      <td>320750.91</td>\n",
       "      <td>285</td>\n",
       "      <td>9287</td>\n",
       "    </tr>\n",
       "    <tr>\n",
       "      <th>10</th>\n",
       "      <td>1639144</td>\n",
       "      <td>5483</td>\n",
       "      <td>13246.16</td>\n",
       "      <td>1202</td>\n",
       "      <td>552924.25</td>\n",
       "      <td>636</td>\n",
       "      <td>16064</td>\n",
       "    </tr>\n",
       "    <tr>\n",
       "      <th>11</th>\n",
       "      <td>3109700</td>\n",
       "      <td>10678</td>\n",
       "      <td>25272.54</td>\n",
       "      <td>1893</td>\n",
       "      <td>1089048.01</td>\n",
       "      <td>1204</td>\n",
       "      <td>30298</td>\n",
       "    </tr>\n",
       "    <tr>\n",
       "      <th>12</th>\n",
       "      <td>1139042</td>\n",
       "      <td>3804</td>\n",
       "      <td>9110.53</td>\n",
       "      <td>679</td>\n",
       "      <td>372802.66</td>\n",
       "      <td>440</td>\n",
       "      <td>10723</td>\n",
       "    </tr>\n",
       "    <tr>\n",
       "      <th rowspan=\"5\" valign=\"top\">2005</th>\n",
       "      <th>1</th>\n",
       "      <td>1026484</td>\n",
       "      <td>3395</td>\n",
       "      <td>8332.07</td>\n",
       "      <td>606</td>\n",
       "      <td>339543.42</td>\n",
       "      <td>99</td>\n",
       "      <td>10081</td>\n",
       "    </tr>\n",
       "    <tr>\n",
       "      <th>2</th>\n",
       "      <td>1006802</td>\n",
       "      <td>3393</td>\n",
       "      <td>8238.22</td>\n",
       "      <td>564</td>\n",
       "      <td>358186.18</td>\n",
       "      <td>97</td>\n",
       "      <td>9971</td>\n",
       "    </tr>\n",
       "    <tr>\n",
       "      <th>3</th>\n",
       "      <td>1101532</td>\n",
       "      <td>3852</td>\n",
       "      <td>8658.95</td>\n",
       "      <td>701</td>\n",
       "      <td>374262.76</td>\n",
       "      <td>106</td>\n",
       "      <td>10177</td>\n",
       "    </tr>\n",
       "    <tr>\n",
       "      <th>4</th>\n",
       "      <td>582598</td>\n",
       "      <td>2634</td>\n",
       "      <td>4556.29</td>\n",
       "      <td>277</td>\n",
       "      <td>261633.29</td>\n",
       "      <td>112</td>\n",
       "      <td>5336</td>\n",
       "    </tr>\n",
       "    <tr>\n",
       "      <th>5</th>\n",
       "      <td>1250102</td>\n",
       "      <td>4357</td>\n",
       "      <td>10101.30</td>\n",
       "      <td>707</td>\n",
       "      <td>457861.06</td>\n",
       "      <td>240</td>\n",
       "      <td>12315</td>\n",
       "    </tr>\n",
       "  </tbody>\n",
       "</table>\n",
       "</div>"
      ],
      "text/plain": [
       "                  ORDERNUMBER  QUANTITYORDERED  PRICEEACH  ORDERLINENUMBER  \\\n",
       "YEAR_ID MONTH_ID                                                             \n",
       "2003    1              394008             1357    3203.31              250   \n",
       "        2              414339             1449    3441.55              327   \n",
       "        3              505484             1755    4086.67              327   \n",
       "        4              586819             1993    4925.11              375   \n",
       "        5              587175             2017    4753.17              425   \n",
       "        6              465950             1649    3879.33              250   \n",
       "        7              506841             1725    4310.41              299   \n",
       "        8              588293             1974    4826.26              454   \n",
       "        9              771377             2510    6407.33              462   \n",
       "        10            1609144             5515   13367.06             1087   \n",
       "        11            3014361            10179   24717.89             1983   \n",
       "        12             714308             2489    5875.05              470   \n",
       "2004    1              929206             3245    7576.40              654   \n",
       "        2              879113             3061    7222.72              544   \n",
       "        3              572836             1978    4686.99              327   \n",
       "        4              655296             2077    5281.88              313   \n",
       "        5              758384             2618    6282.94              423   \n",
       "        6              872046             2971    6994.18              513   \n",
       "        7              934658             3174    7795.36              606   \n",
       "        8             1367479             4564   11147.85              972   \n",
       "        9              977860             3171    7870.55              564   \n",
       "        10            1639144             5483   13246.16             1202   \n",
       "        11            3109700            10678   25272.54             1893   \n",
       "        12            1139042             3804    9110.53              679   \n",
       "2005    1             1026484             3395    8332.07              606   \n",
       "        2             1006802             3393    8238.22              564   \n",
       "        3             1101532             3852    8658.95              701   \n",
       "        4              582598             2634    4556.29              277   \n",
       "        5             1250102             4357   10101.30              707   \n",
       "\n",
       "                       SALES  QTR_ID   MSRP  \n",
       "YEAR_ID MONTH_ID                             \n",
       "2003    1          129753.60      39   3950  \n",
       "        2          140836.19      41   4038  \n",
       "        3          174504.90      50   5003  \n",
       "        4          201609.55     116   5810  \n",
       "        5          192673.11     116   5900  \n",
       "        6          168082.56      92   4519  \n",
       "        7          187731.88     150   5349  \n",
       "        8          197809.30     174   5695  \n",
       "        9          263973.36     228   7958  \n",
       "        10         568290.97     632  15916  \n",
       "        11        1029837.66    1184  30204  \n",
       "        12         261876.46     280   7247  \n",
       "2004    1          316577.42      91   9050  \n",
       "        2          311419.53      86   8671  \n",
       "        3          205733.73      56   5703  \n",
       "        4          206148.12     128   6232  \n",
       "        5          273438.39     148   7443  \n",
       "        6          286674.22     170   8482  \n",
       "        7          327144.09     273   9337  \n",
       "        8          461501.27     399  13561  \n",
       "        9          320750.91     285   9287  \n",
       "        10         552924.25     636  16064  \n",
       "        11        1089048.01    1204  30298  \n",
       "        12         372802.66     440  10723  \n",
       "2005    1          339543.42      99  10081  \n",
       "        2          358186.18      97   9971  \n",
       "        3          374262.76     106  10177  \n",
       "        4          261633.29     112   5336  \n",
       "        5          457861.06     240  12315  "
      ]
     },
     "execution_count": 50,
     "metadata": {},
     "output_type": "execute_result"
    }
   ],
   "source": [
    "#Total sales values by year and month\n",
    "date = sales_df.groupby(['YEAR_ID','MONTH_ID']).sum()\n",
    "date"
   ]
  },
  {
   "cell_type": "code",
   "execution_count": 52,
   "id": "40188786",
   "metadata": {},
   "outputs": [
    {
     "data": {
      "text/plain": [
       "<AxesSubplot:xlabel='YEAR_ID', ylabel='SALES'>"
      ]
     },
     "execution_count": 52,
     "metadata": {},
     "output_type": "execute_result"
    },
    {
     "data": {
      "image/png": "[encoded data removed]",
      "text/plain": [
       "<Figure size 432x288 with 1 Axes>"
      ]
     },
     "metadata": {
      "needs_background": "light"
     },
     "output_type": "display_data"
    }
   ],
   "source": [
    "import seaborn as sns\n",
    "sns.barplot(x='YEAR_ID',y='SALES',data=date.reset_index())"
   ]
  },
  {
   "cell_type": "code",
   "execution_count": null,
   "id": "c5a9e382",
   "metadata": {},
   "outputs": [],
   "source": []
  }
 ],
 "metadata": {
  "kernelspec": {
   "display_name": "Python 3",
   "language": "python",
   "name": "python3"
  },
  "language_info": {
   "codemirror_mode": {
    "name": "ipython",
    "version": 3
   },
   "file_extension": ".py",
   "mimetype": "text/x-python",
   "name": "python",
   "nbconvert_exporter": "python",
   "pygments_lexer": "ipython3",
   "version": "3.8.8"
  }
 },
 "nbformat": 4,
 "nbformat_minor": 5
}
